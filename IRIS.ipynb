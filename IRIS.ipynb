{
  "nbformat": 4,
  "nbformat_minor": 0,
  "metadata": {
    "colab": {
      "provenance": [],
      "authorship_tag": "ABX9TyPiiMkrfSH5RBzDA7/Wbou0",
      "include_colab_link": true
    },
    "kernelspec": {
      "name": "python3",
      "display_name": "Python 3"
    },
    "language_info": {
      "name": "python"
    }
  },
  "cells": [
    {
      "cell_type": "markdown",
      "metadata": {
        "id": "view-in-github",
        "colab_type": "text"
      },
      "source": [
        "<a href=\"https://colab.research.google.com/github/dhruv0rathore/IRIS/blob/main/IRIS.ipynb\" target=\"_parent\"><img src=\"https://colab.research.google.com/assets/colab-badge.svg\" alt=\"Open In Colab\"/></a>"
      ]
    },
    {
      "cell_type": "code",
      "execution_count": 36,
      "metadata": {
        "colab": {
          "base_uri": "https://localhost:8080/"
        },
        "id": "aDoR4zwARWcQ",
        "outputId": "10bb4671-ff0b-4a07-a71b-4c38a42cf451"
      },
      "outputs": [
        {
          "output_type": "stream",
          "name": "stdout",
          "text": [
            "--- Step 1.1.1: Importing Libraries and Loading Iris Dataset ---\n",
            "\n",
            "Iris dataset loaded successfully as a 'Bunch' object.\n",
            "Type of loaded iris object: <class 'sklearn.utils._bunch.Bunch'>\n",
            "Keys available in the iris object: dict_keys(['data', 'target', 'frame', 'target_names', 'DESCR', 'feature_names', 'filename', 'data_module'])\n"
          ]
        }
      ],
      "source": [
        "# Step 1.1.1: Import Libraries and Load Dataset\n",
        "\n",
        "import pandas as pd\n",
        "from sklearn.datasets import load_iris\n",
        "\n",
        "print(\"--- Step 1.1.1: Importing Libraries and Loading Iris Dataset ---\")\n",
        "\n",
        "iris = load_iris()\n",
        "\n",
        "print(\"\\nIris dataset loaded successfully as a 'Bunch' object.\")\n",
        "print(f\"Type of loaded iris object: {type(iris)}\")\n",
        "print(f\"Keys available in the iris object: {iris.keys()}\")\n"
      ]
    },
    {
      "cell_type": "code",
      "source": [
        "# Step 1.1.2: Convert to Pandas DataFrame\n",
        "\n",
        "\n",
        "df = pd.DataFrame(data=iris.data, columns=iris.feature_names)\n",
        "\n",
        "\n",
        "df['species_id'] = iris.target\n",
        "\n",
        "\n",
        "df['species_name'] = df['species_id'].map(lambda x: iris.target_names[x])\n",
        "\n",
        "print(\"\\nDataFrame 'df' created successfully.\")"
      ],
      "metadata": {
        "id": "ZzB5akGglKqF",
        "colab": {
          "base_uri": "https://localhost:8080/"
        },
        "outputId": "349f1dd3-455f-4781-f991-9a113d7eb7d0"
      },
      "execution_count": 37,
      "outputs": [
        {
          "output_type": "stream",
          "name": "stdout",
          "text": [
            "\n",
            "DataFrame 'df' created successfully.\n"
          ]
        }
      ]
    },
    {
      "cell_type": "code",
      "source": [
        "# Step 1.1.3: Displaying the DataFrame and Initial Inspection\n",
        "\n",
        "print(\"\\n--- Displaying the first 5 rows of the DataFrame (df.head()) ---\")\n",
        "print(df.head())\n",
        "\n",
        "print(\"\\n--- DataFrame Information (df.info()) ---\")\n",
        "df.info()\n",
        "\n",
        "print(\"\\n--- Descriptive Statistics (df.describe()) ---\")\n",
        "print(df.describe())"
      ],
      "metadata": {
        "colab": {
          "base_uri": "https://localhost:8080/"
        },
        "id": "N8CFYDB61yFQ",
        "outputId": "ea31d422-4f0b-4ae8-cf01-49fd7bd5555e"
      },
      "execution_count": 38,
      "outputs": [
        {
          "output_type": "stream",
          "name": "stdout",
          "text": [
            "\n",
            "--- Displaying the first 5 rows of the DataFrame (df.head()) ---\n",
            "   sepal length (cm)  sepal width (cm)  petal length (cm)  petal width (cm)  \\\n",
            "0                5.1               3.5                1.4               0.2   \n",
            "1                4.9               3.0                1.4               0.2   \n",
            "2                4.7               3.2                1.3               0.2   \n",
            "3                4.6               3.1                1.5               0.2   \n",
            "4                5.0               3.6                1.4               0.2   \n",
            "\n",
            "   species_id species_name  \n",
            "0           0       setosa  \n",
            "1           0       setosa  \n",
            "2           0       setosa  \n",
            "3           0       setosa  \n",
            "4           0       setosa  \n",
            "\n",
            "--- DataFrame Information (df.info()) ---\n",
            "<class 'pandas.core.frame.DataFrame'>\n",
            "RangeIndex: 150 entries, 0 to 149\n",
            "Data columns (total 6 columns):\n",
            " #   Column             Non-Null Count  Dtype  \n",
            "---  ------             --------------  -----  \n",
            " 0   sepal length (cm)  150 non-null    float64\n",
            " 1   sepal width (cm)   150 non-null    float64\n",
            " 2   petal length (cm)  150 non-null    float64\n",
            " 3   petal width (cm)   150 non-null    float64\n",
            " 4   species_id         150 non-null    int64  \n",
            " 5   species_name       150 non-null    object \n",
            "dtypes: float64(4), int64(1), object(1)\n",
            "memory usage: 7.2+ KB\n",
            "\n",
            "--- Descriptive Statistics (df.describe()) ---\n",
            "       sepal length (cm)  sepal width (cm)  petal length (cm)  \\\n",
            "count         150.000000        150.000000         150.000000   \n",
            "mean            5.843333          3.057333           3.758000   \n",
            "std             0.828066          0.435866           1.765298   \n",
            "min             4.300000          2.000000           1.000000   \n",
            "25%             5.100000          2.800000           1.600000   \n",
            "50%             5.800000          3.000000           4.350000   \n",
            "75%             6.400000          3.300000           5.100000   \n",
            "max             7.900000          4.400000           6.900000   \n",
            "\n",
            "       petal width (cm)  species_id  \n",
            "count        150.000000  150.000000  \n",
            "mean           1.199333    1.000000  \n",
            "std            0.762238    0.819232  \n",
            "min            0.100000    0.000000  \n",
            "25%            0.300000    0.000000  \n",
            "50%            1.300000    1.000000  \n",
            "75%            1.800000    2.000000  \n",
            "max            2.500000    2.000000  \n"
          ]
        }
      ]
    },
    {
      "cell_type": "code",
      "source": [
        "# Step 1.2: Separating Features (X) and Target (y)\n",
        "\n",
        "print(\"\\n--- Step 1.2: Separating Features (X) and Target (y) ---\")\n",
        "\n",
        "X = df.drop(['species_id', 'species_name'], axis=1)\n",
        "\n",
        "y = df['species_id']\n",
        "\n",
        "print(\"\\nFeatures (X) created. First 5 rows:\")\n",
        "print(X.head())\n",
        "\n",
        "print(\"\\nTarget (y) created. First 5 values:\")\n",
        "print(y.head())\n",
        "\n",
        "print(f\"\\nShape of X: {X.shape} (rows, columns)\")\n",
        "print(f\"Shape of y: {y.shape} (rows,)\")"
      ],
      "metadata": {
        "colab": {
          "base_uri": "https://localhost:8080/"
        },
        "id": "cMy6VgG8qTJL",
        "outputId": "47336d31-9e24-4692-edda-cfcba70f64cb"
      },
      "execution_count": 39,
      "outputs": [
        {
          "output_type": "stream",
          "name": "stdout",
          "text": [
            "\n",
            "--- Step 1.2: Separating Features (X) and Target (y) ---\n",
            "\n",
            "Features (X) created. First 5 rows:\n",
            "   sepal length (cm)  sepal width (cm)  petal length (cm)  petal width (cm)\n",
            "0                5.1               3.5                1.4               0.2\n",
            "1                4.9               3.0                1.4               0.2\n",
            "2                4.7               3.2                1.3               0.2\n",
            "3                4.6               3.1                1.5               0.2\n",
            "4                5.0               3.6                1.4               0.2\n",
            "\n",
            "Target (y) created. First 5 values:\n",
            "0    0\n",
            "1    0\n",
            "2    0\n",
            "3    0\n",
            "4    0\n",
            "Name: species_id, dtype: int64\n",
            "\n",
            "Shape of X: (150, 4) (rows, columns)\n",
            "Shape of y: (150,) (rows,)\n"
          ]
        }
      ]
    },
    {
      "cell_type": "code",
      "source": [
        "# Step 1.4: Implementing Feature Scaling (Standardization)\n",
        "\n",
        "from sklearn.preprocessing import StandardScaler\n",
        "\n",
        "print(\"\\n--- Step 1.4: Applying Feature Scaling (Standardization) ---\")\n",
        "\n",
        "scaler = StandardScaler()\n",
        "\n",
        "X_scaled = scaler.fit_transform(X)\n",
        "\n",
        "X_scaled_df = pd.DataFrame(X_scaled, columns=X.columns)\n",
        "\n",
        "print(\"\\nFeatures (X) successfully scaled. First 5 rows of scaled data:\")\n",
        "print(X_scaled_df.head())\n",
        "\n",
        "print(\"\\nDescriptive statistics of scaled features (X_scaled_df.describe()):\")\n",
        "print(X_scaled_df.describe())"
      ],
      "metadata": {
        "colab": {
          "base_uri": "https://localhost:8080/"
        },
        "id": "tPaPPqI8HMnQ",
        "outputId": "7e1a4fe6-cb0b-4e93-9a1a-c47fa02c742d"
      },
      "execution_count": 40,
      "outputs": [
        {
          "output_type": "stream",
          "name": "stdout",
          "text": [
            "\n",
            "--- Step 1.4: Applying Feature Scaling (Standardization) ---\n",
            "\n",
            "Features (X) successfully scaled. First 5 rows of scaled data:\n",
            "   sepal length (cm)  sepal width (cm)  petal length (cm)  petal width (cm)\n",
            "0          -0.900681          1.019004          -1.340227         -1.315444\n",
            "1          -1.143017         -0.131979          -1.340227         -1.315444\n",
            "2          -1.385353          0.328414          -1.397064         -1.315444\n",
            "3          -1.506521          0.098217          -1.283389         -1.315444\n",
            "4          -1.021849          1.249201          -1.340227         -1.315444\n",
            "\n",
            "Descriptive statistics of scaled features (X_scaled_df.describe()):\n",
            "       sepal length (cm)  sepal width (cm)  petal length (cm)  \\\n",
            "count       1.500000e+02      1.500000e+02       1.500000e+02   \n",
            "mean       -1.468455e-15     -1.823726e-15      -1.610564e-15   \n",
            "std         1.003350e+00      1.003350e+00       1.003350e+00   \n",
            "min        -1.870024e+00     -2.433947e+00      -1.567576e+00   \n",
            "25%        -9.006812e-01     -5.923730e-01      -1.226552e+00   \n",
            "50%        -5.250608e-02     -1.319795e-01       3.364776e-01   \n",
            "75%         6.745011e-01      5.586108e-01       7.627583e-01   \n",
            "max         2.492019e+00      3.090775e+00       1.785832e+00   \n",
            "\n",
            "       petal width (cm)  \n",
            "count      1.500000e+02  \n",
            "mean      -9.473903e-16  \n",
            "std        1.003350e+00  \n",
            "min       -1.447076e+00  \n",
            "25%       -1.183812e+00  \n",
            "50%        1.325097e-01  \n",
            "75%        7.906707e-01  \n",
            "max        1.712096e+00  \n"
          ]
        }
      ]
    },
    {
      "cell_type": "code",
      "source": [
        "# Step 2.1: Splitting Data into Training and Testing Sets\n",
        "\n",
        "from sklearn.model_selection import train_test_split\n",
        "\n",
        "print(\"\\n--- Step 2.1: Splitting Data into Training and Testing Sets ---\")\n",
        "\n",
        "X_train, X_test, y_train, y_test = train_test_split(X_scaled, y, test_size=0.2, random_state=42, stratify=y)\n",
        "\n",
        "print(f\"\\nShape of X_train: {X_train.shape}\")\n",
        "print(f\"Shape of X_test:  {X_test.shape}\")\n",
        "print(f\"Shape of y_train: {y_train.shape}\")\n",
        "print(f\"Shape of y_test:  {y_test.shape}\")\n",
        "\n",
        "print(\"\\nData split successfully into training and testing sets.\")"
      ],
      "metadata": {
        "colab": {
          "base_uri": "https://localhost:8080/"
        },
        "id": "Yvwl1Bt7iXJL",
        "outputId": "827566c8-d9c2-499e-86b2-4f67fcbb02a8"
      },
      "execution_count": 41,
      "outputs": [
        {
          "output_type": "stream",
          "name": "stdout",
          "text": [
            "\n",
            "--- Step 2.1: Splitting Data into Training and Testing Sets ---\n",
            "\n",
            "Shape of X_train: (120, 4)\n",
            "Shape of X_test:  (30, 4)\n",
            "Shape of y_train: (120,)\n",
            "Shape of y_test:  (30,)\n",
            "\n",
            "Data split successfully into training and testing sets.\n"
          ]
        }
      ]
    },
    {
      "cell_type": "code",
      "source": [
        "from sklearn.linear_model import LogisticRegression\n",
        "from sklearn.metrics import accuracy_score, classification_report\n",
        "\n",
        "print(\"\\n--- Step 2.2: Initial Classifier Shootout & Baselines ---\")\n",
        "\n",
        "print(\"\\n--- Training Logistic Regression ---\")\n",
        "log_reg_model = LogisticRegression(random_state=42, solver='saga', penalty='elasticnet', l1_ratio=0.5, multi_class='multinomial', max_iter=1000)\n",
        "log_reg_model.fit(X_train, y_train)\n",
        "y_pred_log_reg = log_reg_model.predict(X_test)\n",
        "\n",
        "print(\"Logistic Regression Performance:\")\n",
        "print(f\"Accuracy: {accuracy_score(y_test, y_pred_log_reg):.4f}\")\n",
        "print(\"Classification Report:\\n\", classification_report(y_test, y_pred_log_reg, target_names=iris.target_names))"
      ],
      "metadata": {
        "colab": {
          "base_uri": "https://localhost:8080/"
        },
        "id": "NfekIk-J6ZQ9",
        "outputId": "2ac87601-de80-4dd8-ac5f-e981fa5c544b"
      },
      "execution_count": 42,
      "outputs": [
        {
          "output_type": "stream",
          "name": "stdout",
          "text": [
            "\n",
            "--- Step 2.2: Initial Classifier Shootout & Baselines ---\n",
            "\n",
            "--- Training Logistic Regression ---\n",
            "Logistic Regression Performance:\n",
            "Accuracy: 0.9333\n",
            "Classification Report:\n",
            "               precision    recall  f1-score   support\n",
            "\n",
            "      setosa       1.00      1.00      1.00        10\n",
            "  versicolor       0.90      0.90      0.90        10\n",
            "   virginica       0.90      0.90      0.90        10\n",
            "\n",
            "    accuracy                           0.93        30\n",
            "   macro avg       0.93      0.93      0.93        30\n",
            "weighted avg       0.93      0.93      0.93        30\n",
            "\n"
          ]
        },
        {
          "output_type": "stream",
          "name": "stderr",
          "text": [
            "/usr/local/lib/python3.11/dist-packages/sklearn/linear_model/_logistic.py:1247: FutureWarning: 'multi_class' was deprecated in version 1.5 and will be removed in 1.7. From then on, it will always use 'multinomial'. Leave it to its default value to avoid this warning.\n",
            "  warnings.warn(\n"
          ]
        }
      ]
    },
    {
      "cell_type": "code",
      "source": [
        "from sklearn.neighbors import KNeighborsClassifier\n",
        "from sklearn.metrics import accuracy_score, classification_report\n",
        "\n",
        "print(\"\\n--- Training K-Nearest Neighbors (KNN) ---\")\n",
        "knn_model = KNeighborsClassifier(n_neighbors=3)\n",
        "knn_model.fit(X_train, y_train)\n",
        "y_pred_knn = knn_model.predict(X_test)\n",
        "\n",
        "print(\"\\nK-Nearest Neighbors (KNN) Performance:\")\n",
        "print(f\"Accuracy: {accuracy_score(y_test, y_pred_knn):.4f}\")\n",
        "print(\"Classification Report:\\n\", classification_report(y_test, y_pred_knn, target_names=iris.target_names))\n"
      ],
      "metadata": {
        "colab": {
          "base_uri": "https://localhost:8080/"
        },
        "id": "UYNMtyG7s9Dm",
        "outputId": "c6d8dc77-bf52-4be3-bb10-b5839109b5e8"
      },
      "execution_count": 43,
      "outputs": [
        {
          "output_type": "stream",
          "name": "stdout",
          "text": [
            "\n",
            "--- Training K-Nearest Neighbors (KNN) ---\n",
            "\n",
            "K-Nearest Neighbors (KNN) Performance:\n",
            "Accuracy: 0.9333\n",
            "Classification Report:\n",
            "               precision    recall  f1-score   support\n",
            "\n",
            "      setosa       1.00      1.00      1.00        10\n",
            "  versicolor       0.83      1.00      0.91        10\n",
            "   virginica       1.00      0.80      0.89        10\n",
            "\n",
            "    accuracy                           0.93        30\n",
            "   macro avg       0.94      0.93      0.93        30\n",
            "weighted avg       0.94      0.93      0.93        30\n",
            "\n"
          ]
        }
      ]
    },
    {
      "cell_type": "code",
      "source": [
        "from sklearn.svm import SVC\n",
        "\n",
        "print(\"\\n--- Step 2.2 (Continued): Training more classifiers ---\")\n",
        "\n",
        "print(\"\\n--- Training Support Vector Machine (SVC) ---\")\n",
        "svc_model = SVC(random_state=42, C=1.0, gamma='scale')\n",
        "svc_model.fit(X_train, y_train)\n",
        "y_pred_svc = svc_model.predict(X_test)\n",
        "\n",
        "print(\"Support Vector Machine (SVC) Performance:\")\n",
        "print(f\"Accuracy: {accuracy_score(y_test, y_pred_svc):.4f}\")\n",
        "print(\"Classification Report:\\n\", classification_report(y_test, y_pred_svc, target_names=iris.target_names))"
      ],
      "metadata": {
        "colab": {
          "base_uri": "https://localhost:8080/"
        },
        "id": "it43fDWctbZD",
        "outputId": "2bd4eb97-e714-4cdf-9b4f-d52ea1af4ae6"
      },
      "execution_count": 44,
      "outputs": [
        {
          "output_type": "stream",
          "name": "stdout",
          "text": [
            "\n",
            "--- Step 2.2 (Continued): Training more classifiers ---\n",
            "\n",
            "--- Training Support Vector Machine (SVC) ---\n",
            "Support Vector Machine (SVC) Performance:\n",
            "Accuracy: 0.9667\n",
            "Classification Report:\n",
            "               precision    recall  f1-score   support\n",
            "\n",
            "      setosa       1.00      1.00      1.00        10\n",
            "  versicolor       1.00      0.90      0.95        10\n",
            "   virginica       0.91      1.00      0.95        10\n",
            "\n",
            "    accuracy                           0.97        30\n",
            "   macro avg       0.97      0.97      0.97        30\n",
            "weighted avg       0.97      0.97      0.97        30\n",
            "\n"
          ]
        }
      ]
    },
    {
      "cell_type": "code",
      "source": [
        "from sklearn.tree import DecisionTreeClassifier\n",
        "\n",
        "# --- Model 4: Decision Tree Classifier ---\n",
        "print(\"\\n--- Training Decision Tree Classifier ---\")\n",
        "dt_model = DecisionTreeClassifier(random_state=42, max_depth=None, min_samples_leaf=1)\n",
        "dt_model.fit(X_train, y_train)\n",
        "y_pred_dt = dt_model.predict(X_test)\n",
        "\n",
        "print(\"\\nDecision Tree Classifier Performance:\")\n",
        "print(f\"Accuracy: {accuracy_score(y_test, y_pred_dt):.4f}\")\n",
        "print(\"Classification Report:\\n\", classification_report(y_test, y_pred_dt, target_names=iris.target_names))"
      ],
      "metadata": {
        "colab": {
          "base_uri": "https://localhost:8080/"
        },
        "id": "aTd8HjaE8fYF",
        "outputId": "b92f0f39-ed9e-49ea-8d17-72516f71bdb6"
      },
      "execution_count": 45,
      "outputs": [
        {
          "output_type": "stream",
          "name": "stdout",
          "text": [
            "\n",
            "--- Training Decision Tree Classifier ---\n",
            "\n",
            "Decision Tree Classifier Performance:\n",
            "Accuracy: 0.9333\n",
            "Classification Report:\n",
            "               precision    recall  f1-score   support\n",
            "\n",
            "      setosa       1.00      1.00      1.00        10\n",
            "  versicolor       0.90      0.90      0.90        10\n",
            "   virginica       0.90      0.90      0.90        10\n",
            "\n",
            "    accuracy                           0.93        30\n",
            "   macro avg       0.93      0.93      0.93        30\n",
            "weighted avg       0.93      0.93      0.93        30\n",
            "\n"
          ]
        }
      ]
    },
    {
      "cell_type": "code",
      "source": [
        "from sklearn.ensemble import RandomForestClassifier\n",
        "\n",
        "print(\"\\n--- Step 2.2 : Training Random Forest Classifier ---\")\n",
        "\n",
        "rf_model = RandomForestClassifier(random_state=42, n_estimators=100)\n",
        "rf_model.fit(X_train, y_train)\n",
        "y_pred_rf = rf_model.predict(X_test)\n",
        "\n",
        "print(\"\\nRandom Forest Classifier Performance:\")\n",
        "print(f\"Accuracy: {accuracy_score(y_test, y_pred_rf):.4f}\")\n",
        "print(\"Classification Report:\\n\", classification_report(y_test, y_pred_rf, target_names=iris.target_names))"
      ],
      "metadata": {
        "colab": {
          "base_uri": "https://localhost:8080/"
        },
        "id": "nDYSE_jpDhgv",
        "outputId": "3991dd54-2bb1-445b-87ce-9e37f5252406"
      },
      "execution_count": 46,
      "outputs": [
        {
          "output_type": "stream",
          "name": "stdout",
          "text": [
            "\n",
            "--- Step 2.2 : Training Random Forest Classifier ---\n",
            "\n",
            "Random Forest Classifier Performance:\n",
            "Accuracy: 0.9333\n",
            "Classification Report:\n",
            "               precision    recall  f1-score   support\n",
            "\n",
            "      setosa       1.00      1.00      1.00        10\n",
            "  versicolor       0.90      0.90      0.90        10\n",
            "   virginica       0.90      0.90      0.90        10\n",
            "\n",
            "    accuracy                           0.93        30\n",
            "   macro avg       0.93      0.93      0.93        30\n",
            "weighted avg       0.93      0.93      0.93        30\n",
            "\n"
          ]
        }
      ]
    },
    {
      "cell_type": "code",
      "source": [
        "from sklearn.model_selection import GridSearchCV\n",
        "\n",
        "print(\"\\n--- Step 3.1: Hyperparameter Tuning with GridSearchCV for SVC ---\")\n",
        "\n",
        "param_grid_svc = {\n",
        "    'C': [0.1, 1, 10, 100],\n",
        "    'gamma': [0.001, 0.01, 0.1, 1, 'scale']\n",
        "}\n",
        "\n",
        "grid_search_svc = GridSearchCV(estimator=SVC(random_state=42),\n",
        "                               param_grid=param_grid_svc,\n",
        "                               cv=5,\n",
        "                               scoring='accuracy',\n",
        "                               verbose=2,\n",
        "                               n_jobs=-1)\n",
        "\n",
        "grid_search_svc.fit(X_train, y_train)\n",
        "\n",
        "print(\"\\nGridSearchCV for SVC completed.\")\n",
        "print(f\"Best parameters for SVC: {grid_search_svc.best_params_}\")\n",
        "print(f\"Best cross-validation accuracy for SVC: {grid_search_svc.best_score_:.4f}\")\n",
        "\n",
        "best_svc_model = grid_search_svc.best_estimator_\n",
        "\n",
        "y_pred_best_svc = best_svc_model.predict(X_test)\n",
        "\n",
        "print(\"\\nBest SVC Model Performance on Test Set:\")\n",
        "print(f\"Accuracy: {accuracy_score(y_test, y_pred_best_svc):.4f}\")\n",
        "print(\"Classification Report:\\n\", classification_report(y_test, y_pred_best_svc, target_names=iris.target_names))\n"
      ],
      "metadata": {
        "colab": {
          "base_uri": "https://localhost:8080/"
        },
        "id": "G5IHCFwSJaGA",
        "outputId": "cba85eb2-4ce2-4b9e-95c0-7722412866e5"
      },
      "execution_count": 47,
      "outputs": [
        {
          "output_type": "stream",
          "name": "stdout",
          "text": [
            "\n",
            "--- Step 3.1: Hyperparameter Tuning with GridSearchCV for SVC ---\n",
            "Fitting 5 folds for each of 20 candidates, totalling 100 fits\n",
            "\n",
            "GridSearchCV for SVC completed.\n",
            "Best parameters for SVC: {'C': 1, 'gamma': 0.1}\n",
            "Best cross-validation accuracy for SVC: 0.9833\n",
            "\n",
            "Best SVC Model Performance on Test Set:\n",
            "Accuracy: 0.9667\n",
            "Classification Report:\n",
            "               precision    recall  f1-score   support\n",
            "\n",
            "      setosa       1.00      1.00      1.00        10\n",
            "  versicolor       1.00      0.90      0.95        10\n",
            "   virginica       0.91      1.00      0.95        10\n",
            "\n",
            "    accuracy                           0.97        30\n",
            "   macro avg       0.97      0.97      0.97        30\n",
            "weighted avg       0.97      0.97      0.97        30\n",
            "\n"
          ]
        }
      ]
    },
    {
      "cell_type": "code",
      "source": [
        "from sklearn.metrics import confusion_matrix\n",
        "import matplotlib.pyplot as plt\n",
        "import seaborn as sns\n",
        "import numpy as np\n",
        "\n",
        "print(\"\\n--- Step 4.1: Confusion Matrix for Best SVC Model ---\")\n",
        "\n",
        "cm = confusion_matrix(y_test, y_pred_best_svc)\n",
        "\n",
        "plt.figure(figsize=(8, 6))\n",
        "sns.heatmap(cm, annot=True, fmt='d', cmap='Blues',\n",
        "            xticklabels=iris.target_names, yticklabels=iris.target_names)\n",
        "plt.xlabel('Predicted Label')\n",
        "plt.ylabel('True Label')\n",
        "plt.title('Confusion Matrix for Best SVC Model')\n",
        "plt.show()\n",
        "\n",
        "print(\"\\n--- Interpreting the Confusion Matrix ---\")\n",
        "print(\"Rows represent True Labels, Columns represent Predicted Labels.\")\n",
        "print(\"Diagonal values are correctly classified instances.\")\n",
        "print(\"Off-diagonal values are misclassifications.\")\n",
        "print(f\"\\nFor 'versicolor' (index 1) and 'virginica' (index 2):\")\n",
        "print(f\"  True Versicolor (row 1) predicted as Virginica (col 2): {cm[1, 2]}\")\n",
        "print(f\"  True Virginica (row 2) predicted as Versicolor (col 1): {cm[2, 1]}\")"
      ],
      "metadata": {
        "colab": {
          "base_uri": "https://localhost:8080/",
          "height": 755
        },
        "id": "x_Kq39GTr9kz",
        "outputId": "bcb89744-beaf-401f-a53a-843726359e90"
      },
      "execution_count": 48,
      "outputs": [
        {
          "output_type": "stream",
          "name": "stdout",
          "text": [
            "\n",
            "--- Step 4.1: Confusion Matrix for Best SVC Model ---\n"
          ]
        },
        {
          "output_type": "display_data",
          "data": {
            "text/plain": [
              "<Figure size 800x600 with 2 Axes>"
            ],
            "image/png": "[encoded data removed]"
          },
          "metadata": {}
        },
        {
          "output_type": "stream",
          "name": "stdout",
          "text": [
            "\n",
            "--- Interpreting the Confusion Matrix ---\n",
            "Rows represent True Labels, Columns represent Predicted Labels.\n",
            "Diagonal values are correctly classified instances.\n",
            "Off-diagonal values are misclassifications.\n",
            "\n",
            "For 'versicolor' (index 1) and 'virginica' (index 2):\n",
            "  True Versicolor (row 1) predicted as Virginica (col 2): 1\n",
            "  True Virginica (row 2) predicted as Versicolor (col 1): 0\n"
          ]
        }
      ]
    }
  ]
}